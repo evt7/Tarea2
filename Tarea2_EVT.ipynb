{
 "cells": [
  {
   "cell_type": "code",
   "execution_count": 1,
   "id": "218110a4",
   "metadata": {
    "scrolled": true
   },
   "outputs": [],
   "source": [
    "#Tarea 2\n",
    "\n",
    "def ahorro_auto(salario_mensual, proporcion_ahorrada, costo_auto):\n",
    "    \n",
    "    proporcion_pago_inicial = 0.2\n",
    "    ahorro_actual = 0\n",
    "    meses = 0\n",
    "    \n",
    "    while ahorro_actual < costo_auto * proporcion_pago_inicial:\n",
    "        ahorro_actual += salario_mensual * proporcion_ahorrada\n",
    "        meses += 1\n",
    "    print('salario mensual:', salario_mensual , '\\nproporcion de salario ahorrado:', proporcion_ahorrada, '\\ncosto del auto \"de mis sueños\":', costo_auto)\n",
    "    print (\"meses que debo ahorrar:\" , meses)\n",
    "    "
   ]
  },
  {
   "cell_type": "code",
   "execution_count": 2,
   "id": "c37dfe1c",
   "metadata": {
    "scrolled": true
   },
   "outputs": [
    {
     "name": "stdout",
     "output_type": "stream",
     "text": [
      "salario mensual: 1200000 \n",
      "proporcion de salario ahorrado: 0.1 \n",
      "costo del auto \"de mis sueños\": 10000000\n",
      "meses que debo ahorrar: 17\n"
     ]
    }
   ],
   "source": [
    "ahorro_auto (1200000, 0.1 , 10000000)"
   ]
  },
  {
   "cell_type": "code",
   "execution_count": 3,
   "id": "fe1bf028",
   "metadata": {},
   "outputs": [],
   "source": [
    "def ahorro_auto_inv(salario_mensual, proporcion_ahorrada, costo_auto, r):\n",
    "    proporcion_pago_inicial = 0.2\n",
    "    ahorro_actual = 0\n",
    "    meses = 0\n",
    "    while ahorro_actual < costo_auto * proporcion_pago_inicial:\n",
    "        ahorro_actual += salario_mensual * proporcion_ahorrada\n",
    "        ahorro_actual += ahorro_actual * r\n",
    "        meses += 1\n",
    "    print('salario mensual:', salario_mensual, '\\nproporcion de salario ahorrado:', proporcion_ahorrada, '\\ncosto del auto \"de mis sueños\":', costo_auto)\n",
    "    print('meses que debo ahorrar:', meses)"
   ]
  },
  {
   "cell_type": "code",
   "execution_count": 4,
   "id": "17225950",
   "metadata": {
    "scrolled": false
   },
   "outputs": [
    {
     "name": "stdout",
     "output_type": "stream",
     "text": [
      "salario mensual: 1800000 \n",
      "proporcion de salario ahorrado: 0.4 \n",
      "costo del auto \"de mis sueños\": 12000000\n",
      "meses que debo ahorrar: 3\n"
     ]
    }
   ],
   "source": [
    "ahorro_auto_inv(1800000 , 0.4 , 12000000 , 0.1)"
   ]
  },
  {
   "cell_type": "code",
   "execution_count": 5,
   "id": "2d31bdb8",
   "metadata": {},
   "outputs": [],
   "source": [
    "def ahorro_auto_aum(salario_mensual, proporcion_ahorrada, costo_auto, proporcion_aum_salario):\n",
    "    proporcion_pago_inicial = 0.2\n",
    "    ahorro_actual = 0\n",
    "    meses = 0\n",
    "    aumento_de_salario= 0\n",
    "    while ahorro_actual < costo_auto * proporcion_pago_inicial:\n",
    "        ahorro_actual += salario_mensual * proporcion_ahorrada\n",
    "        meses += 1\n",
    "        if meses % 6 == 0:\n",
    "            salario_mensual += salario_mensual * proporcion_aum_salario\n",
    "            aumento_de_salario += 1\n",
    "\n",
    "    print('salario mensual:', salario_mensual, '\\nproporcion de salario ahorrado:', proporcion_ahorrada, '\\ncosto del auto \"de mis sueños\":', costo_auto)\n",
    "    print('meses que debo ahorrar:', meses)"
   ]
  },
  {
   "cell_type": "code",
   "execution_count": 8,
   "id": "3e939817",
   "metadata": {
    "scrolled": false
   },
   "outputs": [
    {
     "name": "stdout",
     "output_type": "stream",
     "text": [
      "salario mensual: 1560000.0 \n",
      "proporcion de salario ahorrado: 0.3 \n",
      "costo del auto \"de mis sueños\": 20000000\n",
      "meses que debo ahorrar: 10\n"
     ]
    }
   ],
   "source": [
    "ahorro_auto_aum (1200000, 0.3, 20000000, 0.3)"
   ]
  },
  {
   "cell_type": "code",
   "execution_count": null,
   "id": "a1ba313f",
   "metadata": {},
   "outputs": [],
   "source": []
  }
 ],
 "metadata": {
  "kernelspec": {
   "display_name": "Python 3 (ipykernel)",
   "language": "python",
   "name": "python3"
  },
  "language_info": {
   "codemirror_mode": {
    "name": "ipython",
    "version": 3
   },
   "file_extension": ".py",
   "mimetype": "text/x-python",
   "name": "python",
   "nbconvert_exporter": "python",
   "pygments_lexer": "ipython3",
   "version": "3.9.13"
  }
 },
 "nbformat": 4,
 "nbformat_minor": 5
}
